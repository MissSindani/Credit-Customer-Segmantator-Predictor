{
 "cells": [
  {
   "cell_type": "markdown",
   "id": "6995a86c",
   "metadata": {},
   "source": [
    "## Importing relevant library for cleaning"
   ]
  },
  {
   "cell_type": "code",
   "execution_count": 52,
   "id": "090df73c",
   "metadata": {},
   "outputs": [],
   "source": [
    "import pandas as pd"
   ]
  },
  {
   "cell_type": "code",
   "execution_count": 2,
   "id": "dbe2f094",
   "metadata": {},
   "outputs": [],
   "source": [
    "extracted_data = pd.read_csv('Credit Score Classification Dataset.csv')"
   ]
  },
  {
   "cell_type": "code",
   "execution_count": 3,
   "id": "f72cd49d",
   "metadata": {},
   "outputs": [
    {
     "data": {
      "text/html": [
       "<div>\n",
       "<style scoped>\n",
       "    .dataframe tbody tr th:only-of-type {\n",
       "        vertical-align: middle;\n",
       "    }\n",
       "\n",
       "    .dataframe tbody tr th {\n",
       "        vertical-align: top;\n",
       "    }\n",
       "\n",
       "    .dataframe thead th {\n",
       "        text-align: right;\n",
       "    }\n",
       "</style>\n",
       "<table border=\"1\" class=\"dataframe\">\n",
       "  <thead>\n",
       "    <tr style=\"text-align: right;\">\n",
       "      <th></th>\n",
       "      <th>Age</th>\n",
       "      <th>Gender</th>\n",
       "      <th>Income</th>\n",
       "      <th>Education</th>\n",
       "      <th>Marital Status</th>\n",
       "      <th>Number of Children</th>\n",
       "      <th>Home Ownership</th>\n",
       "      <th>Credit Score</th>\n",
       "    </tr>\n",
       "  </thead>\n",
       "  <tbody>\n",
       "    <tr>\n",
       "      <th>0</th>\n",
       "      <td>25</td>\n",
       "      <td>Female</td>\n",
       "      <td>50000</td>\n",
       "      <td>Bachelor's Degree</td>\n",
       "      <td>Single</td>\n",
       "      <td>0</td>\n",
       "      <td>Rented</td>\n",
       "      <td>High</td>\n",
       "    </tr>\n",
       "    <tr>\n",
       "      <th>1</th>\n",
       "      <td>30</td>\n",
       "      <td>Male</td>\n",
       "      <td>100000</td>\n",
       "      <td>Master's Degree</td>\n",
       "      <td>Married</td>\n",
       "      <td>2</td>\n",
       "      <td>Owned</td>\n",
       "      <td>High</td>\n",
       "    </tr>\n",
       "    <tr>\n",
       "      <th>2</th>\n",
       "      <td>35</td>\n",
       "      <td>Female</td>\n",
       "      <td>75000</td>\n",
       "      <td>Doctorate</td>\n",
       "      <td>Married</td>\n",
       "      <td>1</td>\n",
       "      <td>Owned</td>\n",
       "      <td>High</td>\n",
       "    </tr>\n",
       "    <tr>\n",
       "      <th>3</th>\n",
       "      <td>40</td>\n",
       "      <td>Male</td>\n",
       "      <td>125000</td>\n",
       "      <td>High School Diploma</td>\n",
       "      <td>Single</td>\n",
       "      <td>0</td>\n",
       "      <td>Owned</td>\n",
       "      <td>High</td>\n",
       "    </tr>\n",
       "    <tr>\n",
       "      <th>4</th>\n",
       "      <td>45</td>\n",
       "      <td>Female</td>\n",
       "      <td>100000</td>\n",
       "      <td>Bachelor's Degree</td>\n",
       "      <td>Married</td>\n",
       "      <td>3</td>\n",
       "      <td>Owned</td>\n",
       "      <td>High</td>\n",
       "    </tr>\n",
       "    <tr>\n",
       "      <th>...</th>\n",
       "      <td>...</td>\n",
       "      <td>...</td>\n",
       "      <td>...</td>\n",
       "      <td>...</td>\n",
       "      <td>...</td>\n",
       "      <td>...</td>\n",
       "      <td>...</td>\n",
       "      <td>...</td>\n",
       "    </tr>\n",
       "    <tr>\n",
       "      <th>159</th>\n",
       "      <td>29</td>\n",
       "      <td>Female</td>\n",
       "      <td>27500</td>\n",
       "      <td>High School Diploma</td>\n",
       "      <td>Single</td>\n",
       "      <td>0</td>\n",
       "      <td>Rented</td>\n",
       "      <td>Low</td>\n",
       "    </tr>\n",
       "    <tr>\n",
       "      <th>160</th>\n",
       "      <td>34</td>\n",
       "      <td>Male</td>\n",
       "      <td>47500</td>\n",
       "      <td>Associate's Degree</td>\n",
       "      <td>Single</td>\n",
       "      <td>0</td>\n",
       "      <td>Rented</td>\n",
       "      <td>Average</td>\n",
       "    </tr>\n",
       "    <tr>\n",
       "      <th>161</th>\n",
       "      <td>39</td>\n",
       "      <td>Female</td>\n",
       "      <td>62500</td>\n",
       "      <td>Bachelor's Degree</td>\n",
       "      <td>Married</td>\n",
       "      <td>2</td>\n",
       "      <td>Owned</td>\n",
       "      <td>High</td>\n",
       "    </tr>\n",
       "    <tr>\n",
       "      <th>162</th>\n",
       "      <td>44</td>\n",
       "      <td>Male</td>\n",
       "      <td>87500</td>\n",
       "      <td>Master's Degree</td>\n",
       "      <td>Single</td>\n",
       "      <td>0</td>\n",
       "      <td>Owned</td>\n",
       "      <td>High</td>\n",
       "    </tr>\n",
       "    <tr>\n",
       "      <th>163</th>\n",
       "      <td>49</td>\n",
       "      <td>Female</td>\n",
       "      <td>77500</td>\n",
       "      <td>Doctorate</td>\n",
       "      <td>Married</td>\n",
       "      <td>1</td>\n",
       "      <td>Owned</td>\n",
       "      <td>High</td>\n",
       "    </tr>\n",
       "  </tbody>\n",
       "</table>\n",
       "<p>164 rows × 8 columns</p>\n",
       "</div>"
      ],
      "text/plain": [
       "     Age  Gender  Income            Education Marital Status  \\\n",
       "0     25  Female   50000    Bachelor's Degree         Single   \n",
       "1     30    Male  100000      Master's Degree        Married   \n",
       "2     35  Female   75000            Doctorate        Married   \n",
       "3     40    Male  125000  High School Diploma         Single   \n",
       "4     45  Female  100000    Bachelor's Degree        Married   \n",
       "..   ...     ...     ...                  ...            ...   \n",
       "159   29  Female   27500  High School Diploma         Single   \n",
       "160   34    Male   47500   Associate's Degree         Single   \n",
       "161   39  Female   62500    Bachelor's Degree        Married   \n",
       "162   44    Male   87500      Master's Degree         Single   \n",
       "163   49  Female   77500            Doctorate        Married   \n",
       "\n",
       "     Number of Children Home Ownership Credit Score  \n",
       "0                     0         Rented         High  \n",
       "1                     2          Owned         High  \n",
       "2                     1          Owned         High  \n",
       "3                     0          Owned         High  \n",
       "4                     3          Owned         High  \n",
       "..                  ...            ...          ...  \n",
       "159                   0         Rented          Low  \n",
       "160                   0         Rented      Average  \n",
       "161                   2          Owned         High  \n",
       "162                   0          Owned         High  \n",
       "163                   1          Owned         High  \n",
       "\n",
       "[164 rows x 8 columns]"
      ]
     },
     "execution_count": 3,
     "metadata": {},
     "output_type": "execute_result"
    }
   ],
   "source": [
    "extracted_data.head()"
   ]
  },
  {
   "cell_type": "code",
   "execution_count": 4,
   "id": "f0ce13dd",
   "metadata": {},
   "outputs": [],
   "source": [
    "extracted_data.columns = extracted_data.columns.str.replace(' ' , '_' )"
   ]
  },
  {
   "cell_type": "code",
   "execution_count": 5,
   "id": "6440ccd8",
   "metadata": {},
   "outputs": [
    {
     "data": {
      "text/plain": [
       "Age                   0\n",
       "Gender                0\n",
       "Income                0\n",
       "Education             0\n",
       "Marital_Status        0\n",
       "Number_of_Children    0\n",
       "Home_Ownership        0\n",
       "Credit_Score          0\n",
       "dtype: int64"
      ]
     },
     "execution_count": 5,
     "metadata": {},
     "output_type": "execute_result"
    }
   ],
   "source": [
    "extracted_data.isnull().sum()"
   ]
  },
  {
   "cell_type": "code",
   "execution_count": 6,
   "id": "5247f175",
   "metadata": {},
   "outputs": [
    {
     "data": {
      "text/html": [
       "<div>\n",
       "<style scoped>\n",
       "    .dataframe tbody tr th:only-of-type {\n",
       "        vertical-align: middle;\n",
       "    }\n",
       "\n",
       "    .dataframe tbody tr th {\n",
       "        vertical-align: top;\n",
       "    }\n",
       "\n",
       "    .dataframe thead th {\n",
       "        text-align: right;\n",
       "    }\n",
       "</style>\n",
       "<table border=\"1\" class=\"dataframe\">\n",
       "  <thead>\n",
       "    <tr style=\"text-align: right;\">\n",
       "      <th></th>\n",
       "      <th>count</th>\n",
       "      <th>mean</th>\n",
       "      <th>std</th>\n",
       "      <th>min</th>\n",
       "      <th>25%</th>\n",
       "      <th>50%</th>\n",
       "      <th>75%</th>\n",
       "      <th>max</th>\n",
       "    </tr>\n",
       "  </thead>\n",
       "  <tbody>\n",
       "    <tr>\n",
       "      <th>Age</th>\n",
       "      <td>164.0</td>\n",
       "      <td>37.975610</td>\n",
       "      <td>8.477289</td>\n",
       "      <td>25.0</td>\n",
       "      <td>30.75</td>\n",
       "      <td>37.0</td>\n",
       "      <td>45.0</td>\n",
       "      <td>53.0</td>\n",
       "    </tr>\n",
       "    <tr>\n",
       "      <th>Income</th>\n",
       "      <td>164.0</td>\n",
       "      <td>83765.243902</td>\n",
       "      <td>32457.306728</td>\n",
       "      <td>25000.0</td>\n",
       "      <td>57500.00</td>\n",
       "      <td>83750.0</td>\n",
       "      <td>105000.0</td>\n",
       "      <td>162500.0</td>\n",
       "    </tr>\n",
       "    <tr>\n",
       "      <th>Number_of_Children</th>\n",
       "      <td>164.0</td>\n",
       "      <td>0.652439</td>\n",
       "      <td>0.883346</td>\n",
       "      <td>0.0</td>\n",
       "      <td>0.00</td>\n",
       "      <td>0.0</td>\n",
       "      <td>1.0</td>\n",
       "      <td>3.0</td>\n",
       "    </tr>\n",
       "  </tbody>\n",
       "</table>\n",
       "</div>"
      ],
      "text/plain": [
       "                    count          mean           std      min       25%  \\\n",
       "Age                 164.0     37.975610      8.477289     25.0     30.75   \n",
       "Income              164.0  83765.243902  32457.306728  25000.0  57500.00   \n",
       "Number_of_Children  164.0      0.652439      0.883346      0.0      0.00   \n",
       "\n",
       "                        50%       75%       max  \n",
       "Age                    37.0      45.0      53.0  \n",
       "Income              83750.0  105000.0  162500.0  \n",
       "Number_of_Children      0.0       1.0       3.0  "
      ]
     },
     "execution_count": 6,
     "metadata": {},
     "output_type": "execute_result"
    }
   ],
   "source": [
    "extracted_data.describe().T"
   ]
  },
  {
   "cell_type": "code",
   "execution_count": 7,
   "id": "ea5428cc",
   "metadata": {},
   "outputs": [
    {
     "data": {
      "text/plain": [
       "Age                    int64\n",
       "Gender                object\n",
       "Income                 int64\n",
       "Education             object\n",
       "Marital_Status        object\n",
       "Number_of_Children     int64\n",
       "Home_Ownership        object\n",
       "Credit_Score          object\n",
       "dtype: object"
      ]
     },
     "execution_count": 7,
     "metadata": {},
     "output_type": "execute_result"
    }
   ],
   "source": [
    "extracted_data.dtypes"
   ]
  },
  {
   "cell_type": "code",
   "execution_count": 8,
   "id": "0dd8ba6c",
   "metadata": {},
   "outputs": [],
   "source": [
    "median_age = extracted_data['Age'].median()\n",
    "\n",
    "def map_median_age(age):\n",
    "    if age > median_age:\n",
    "        return 0\n",
    "    else:\n",
    "        return 1\n",
    "    \n",
    "extracted_data['Age'] = extracted_data['Age'].apply(map_median_age)"
   ]
  },
  {
   "cell_type": "code",
   "execution_count": 9,
   "id": "50659f52",
   "metadata": {},
   "outputs": [],
   "source": [
    "gender_mapped = {'Female' : 0 ,\n",
    "                 'Male' : 1}\n",
    "\n",
    "extracted_data['Gender'] = extracted_data['Gender'].map(gender_mapped)"
   ]
  },
  {
   "cell_type": "code",
   "execution_count": 10,
   "id": "ace572a9",
   "metadata": {},
   "outputs": [],
   "source": [
    "income_median = extracted_data['Income'].median()\n",
    "extracted_data['Income'] = extracted_data['Income'].apply(lambda x:0 if x > income_median else 1)"
   ]
  },
  {
   "cell_type": "code",
   "execution_count": 11,
   "id": "18448c04",
   "metadata": {},
   "outputs": [],
   "source": [
    "\n",
    "degree_mapping ={'High School Diploma': 0 ,\n",
    "     \"Associate's Degree\": 1 ,\n",
    "     \"Bachelor's Degree\": 2 ,\n",
    "     \"Master's Degree\": 3}\n",
    "    \n",
    "extracted_data['Education'] = extracted_data['Education'].map(degree_mapping)"
   ]
  },
  {
   "cell_type": "code",
   "execution_count": 12,
   "id": "06da0834",
   "metadata": {},
   "outputs": [],
   "source": [
    "Marital_Status_mapped = {'Single' : 0 ,\n",
    "                 'Married' : 1}\n",
    "\n",
    "extracted_data['Marital_Status'] = extracted_data['Marital_Status'].map(Marital_Status_mapped)"
   ]
  },
  {
   "cell_type": "code",
   "execution_count": 13,
   "id": "2528ae6b",
   "metadata": {},
   "outputs": [],
   "source": [
    "Number_of_Children_Median = extracted_data['Number_of_Children'].median()\n",
    "extracted_data['Number_of_Children'] = extracted_data['Number_of_Children'].apply(lambda x: 0 if x > Number_of_Children_Median else 1)"
   ]
  },
  {
   "cell_type": "code",
   "execution_count": 14,
   "id": "9452c5c9",
   "metadata": {},
   "outputs": [],
   "source": [
    "Home_Ownership_mapped = {'Rented' : 0 ,\n",
    "                 'Owned' : 1}\n",
    "\n",
    "extracted_data['Home_Ownership'] = extracted_data['Home_Ownership'].map(Home_Ownership_mapped)"
   ]
  },
  {
   "cell_type": "code",
   "execution_count": 15,
   "id": "c920b50f",
   "metadata": {},
   "outputs": [],
   "source": [
    "Credit_Score_mapped  = {'low' : int(0) ,\n",
    "                        'Average' : int(1) ,\n",
    "                        'High' : int(2) }\n",
    "\n",
    "extracted_data['Credit_Score'] = extracted_data['Credit_Score'].map(Credit_Score_mapped)"
   ]
  },
  {
   "cell_type": "code",
   "execution_count": 16,
   "id": "1ca5621c",
   "metadata": {},
   "outputs": [
    {
     "data": {
      "text/html": [
       "<div>\n",
       "<style scoped>\n",
       "    .dataframe tbody tr th:only-of-type {\n",
       "        vertical-align: middle;\n",
       "    }\n",
       "\n",
       "    .dataframe tbody tr th {\n",
       "        vertical-align: top;\n",
       "    }\n",
       "\n",
       "    .dataframe thead th {\n",
       "        text-align: right;\n",
       "    }\n",
       "</style>\n",
       "<table border=\"1\" class=\"dataframe\">\n",
       "  <thead>\n",
       "    <tr style=\"text-align: right;\">\n",
       "      <th></th>\n",
       "      <th>Age</th>\n",
       "      <th>Gender</th>\n",
       "      <th>Income</th>\n",
       "      <th>Education</th>\n",
       "      <th>Marital_Status</th>\n",
       "      <th>Number_of_Children</th>\n",
       "      <th>Home_Ownership</th>\n",
       "      <th>Credit_Score</th>\n",
       "    </tr>\n",
       "  </thead>\n",
       "  <tbody>\n",
       "    <tr>\n",
       "      <th>0</th>\n",
       "      <td>1</td>\n",
       "      <td>0</td>\n",
       "      <td>1</td>\n",
       "      <td>2.0</td>\n",
       "      <td>0</td>\n",
       "      <td>1</td>\n",
       "      <td>0</td>\n",
       "      <td>2.0</td>\n",
       "    </tr>\n",
       "    <tr>\n",
       "      <th>1</th>\n",
       "      <td>1</td>\n",
       "      <td>1</td>\n",
       "      <td>0</td>\n",
       "      <td>3.0</td>\n",
       "      <td>1</td>\n",
       "      <td>0</td>\n",
       "      <td>1</td>\n",
       "      <td>2.0</td>\n",
       "    </tr>\n",
       "    <tr>\n",
       "      <th>2</th>\n",
       "      <td>1</td>\n",
       "      <td>0</td>\n",
       "      <td>1</td>\n",
       "      <td>NaN</td>\n",
       "      <td>1</td>\n",
       "      <td>0</td>\n",
       "      <td>1</td>\n",
       "      <td>2.0</td>\n",
       "    </tr>\n",
       "    <tr>\n",
       "      <th>3</th>\n",
       "      <td>0</td>\n",
       "      <td>1</td>\n",
       "      <td>0</td>\n",
       "      <td>0.0</td>\n",
       "      <td>0</td>\n",
       "      <td>1</td>\n",
       "      <td>1</td>\n",
       "      <td>2.0</td>\n",
       "    </tr>\n",
       "    <tr>\n",
       "      <th>4</th>\n",
       "      <td>0</td>\n",
       "      <td>0</td>\n",
       "      <td>0</td>\n",
       "      <td>2.0</td>\n",
       "      <td>1</td>\n",
       "      <td>0</td>\n",
       "      <td>1</td>\n",
       "      <td>2.0</td>\n",
       "    </tr>\n",
       "    <tr>\n",
       "      <th>...</th>\n",
       "      <td>...</td>\n",
       "      <td>...</td>\n",
       "      <td>...</td>\n",
       "      <td>...</td>\n",
       "      <td>...</td>\n",
       "      <td>...</td>\n",
       "      <td>...</td>\n",
       "      <td>...</td>\n",
       "    </tr>\n",
       "    <tr>\n",
       "      <th>159</th>\n",
       "      <td>1</td>\n",
       "      <td>0</td>\n",
       "      <td>1</td>\n",
       "      <td>0.0</td>\n",
       "      <td>0</td>\n",
       "      <td>1</td>\n",
       "      <td>0</td>\n",
       "      <td>NaN</td>\n",
       "    </tr>\n",
       "    <tr>\n",
       "      <th>160</th>\n",
       "      <td>1</td>\n",
       "      <td>1</td>\n",
       "      <td>1</td>\n",
       "      <td>1.0</td>\n",
       "      <td>0</td>\n",
       "      <td>1</td>\n",
       "      <td>0</td>\n",
       "      <td>1.0</td>\n",
       "    </tr>\n",
       "    <tr>\n",
       "      <th>161</th>\n",
       "      <td>0</td>\n",
       "      <td>0</td>\n",
       "      <td>1</td>\n",
       "      <td>2.0</td>\n",
       "      <td>1</td>\n",
       "      <td>0</td>\n",
       "      <td>1</td>\n",
       "      <td>2.0</td>\n",
       "    </tr>\n",
       "    <tr>\n",
       "      <th>162</th>\n",
       "      <td>0</td>\n",
       "      <td>1</td>\n",
       "      <td>0</td>\n",
       "      <td>3.0</td>\n",
       "      <td>0</td>\n",
       "      <td>1</td>\n",
       "      <td>1</td>\n",
       "      <td>2.0</td>\n",
       "    </tr>\n",
       "    <tr>\n",
       "      <th>163</th>\n",
       "      <td>0</td>\n",
       "      <td>0</td>\n",
       "      <td>1</td>\n",
       "      <td>NaN</td>\n",
       "      <td>1</td>\n",
       "      <td>0</td>\n",
       "      <td>1</td>\n",
       "      <td>2.0</td>\n",
       "    </tr>\n",
       "  </tbody>\n",
       "</table>\n",
       "<p>164 rows × 8 columns</p>\n",
       "</div>"
      ],
      "text/plain": [
       "     Age  Gender  Income  Education  Marital_Status  Number_of_Children  \\\n",
       "0      1       0       1        2.0               0                   1   \n",
       "1      1       1       0        3.0               1                   0   \n",
       "2      1       0       1        NaN               1                   0   \n",
       "3      0       1       0        0.0               0                   1   \n",
       "4      0       0       0        2.0               1                   0   \n",
       "..   ...     ...     ...        ...             ...                 ...   \n",
       "159    1       0       1        0.0               0                   1   \n",
       "160    1       1       1        1.0               0                   1   \n",
       "161    0       0       1        2.0               1                   0   \n",
       "162    0       1       0        3.0               0                   1   \n",
       "163    0       0       1        NaN               1                   0   \n",
       "\n",
       "     Home_Ownership  Credit_Score  \n",
       "0                 0           2.0  \n",
       "1                 1           2.0  \n",
       "2                 1           2.0  \n",
       "3                 1           2.0  \n",
       "4                 1           2.0  \n",
       "..              ...           ...  \n",
       "159               0           NaN  \n",
       "160               0           1.0  \n",
       "161               1           2.0  \n",
       "162               1           2.0  \n",
       "163               1           2.0  \n",
       "\n",
       "[164 rows x 8 columns]"
      ]
     },
     "execution_count": 16,
     "metadata": {},
     "output_type": "execute_result"
    }
   ],
   "source": [
    "extracted_data.head()"
   ]
  },
  {
   "cell_type": "code",
   "execution_count": 17,
   "id": "65fc1f8b",
   "metadata": {},
   "outputs": [
    {
     "data": {
      "text/plain": [
       "Age                    0\n",
       "Gender                 0\n",
       "Income                 0\n",
       "Education             31\n",
       "Marital_Status         0\n",
       "Number_of_Children     0\n",
       "Home_Ownership         0\n",
       "Credit_Score          15\n",
       "dtype: int64"
      ]
     },
     "execution_count": 17,
     "metadata": {},
     "output_type": "execute_result"
    }
   ],
   "source": [
    "extracted_data.isnull().sum()"
   ]
  },
  {
   "cell_type": "code",
   "execution_count": 18,
   "id": "69013f5e",
   "metadata": {},
   "outputs": [],
   "source": [
    "clean_data = extracted_data.dropna(how ='any')"
   ]
  },
  {
   "cell_type": "code",
   "execution_count": 19,
   "id": "b17b0152",
   "metadata": {},
   "outputs": [],
   "source": [
    "import warnings\n",
    "warnings.filterwarnings('ignore')"
   ]
  },
  {
   "cell_type": "code",
   "execution_count": 20,
   "id": "93a56d9f",
   "metadata": {},
   "outputs": [],
   "source": [
    "clean_data['Education'] = clean_data['Education'].astype(int)\n",
    "clean_data['Credit_Score'] = clean_data['Credit_Score'].astype(int)"
   ]
  },
  {
   "cell_type": "code",
   "execution_count": 21,
   "id": "aa16e345",
   "metadata": {},
   "outputs": [
    {
     "data": {
      "text/html": [
       "<div>\n",
       "<style scoped>\n",
       "    .dataframe tbody tr th:only-of-type {\n",
       "        vertical-align: middle;\n",
       "    }\n",
       "\n",
       "    .dataframe tbody tr th {\n",
       "        vertical-align: top;\n",
       "    }\n",
       "\n",
       "    .dataframe thead th {\n",
       "        text-align: right;\n",
       "    }\n",
       "</style>\n",
       "<table border=\"1\" class=\"dataframe\">\n",
       "  <thead>\n",
       "    <tr style=\"text-align: right;\">\n",
       "      <th></th>\n",
       "      <th>Age</th>\n",
       "      <th>Gender</th>\n",
       "      <th>Income</th>\n",
       "      <th>Education</th>\n",
       "      <th>Marital_Status</th>\n",
       "      <th>Number_of_Children</th>\n",
       "      <th>Home_Ownership</th>\n",
       "      <th>Credit_Score</th>\n",
       "    </tr>\n",
       "  </thead>\n",
       "  <tbody>\n",
       "    <tr>\n",
       "      <th>0</th>\n",
       "      <td>1</td>\n",
       "      <td>0</td>\n",
       "      <td>1</td>\n",
       "      <td>2</td>\n",
       "      <td>0</td>\n",
       "      <td>1</td>\n",
       "      <td>0</td>\n",
       "      <td>2</td>\n",
       "    </tr>\n",
       "    <tr>\n",
       "      <th>1</th>\n",
       "      <td>1</td>\n",
       "      <td>1</td>\n",
       "      <td>0</td>\n",
       "      <td>3</td>\n",
       "      <td>1</td>\n",
       "      <td>0</td>\n",
       "      <td>1</td>\n",
       "      <td>2</td>\n",
       "    </tr>\n",
       "    <tr>\n",
       "      <th>3</th>\n",
       "      <td>0</td>\n",
       "      <td>1</td>\n",
       "      <td>0</td>\n",
       "      <td>0</td>\n",
       "      <td>0</td>\n",
       "      <td>1</td>\n",
       "      <td>1</td>\n",
       "      <td>2</td>\n",
       "    </tr>\n",
       "    <tr>\n",
       "      <th>4</th>\n",
       "      <td>0</td>\n",
       "      <td>0</td>\n",
       "      <td>0</td>\n",
       "      <td>2</td>\n",
       "      <td>1</td>\n",
       "      <td>0</td>\n",
       "      <td>1</td>\n",
       "      <td>2</td>\n",
       "    </tr>\n",
       "    <tr>\n",
       "      <th>5</th>\n",
       "      <td>0</td>\n",
       "      <td>1</td>\n",
       "      <td>0</td>\n",
       "      <td>3</td>\n",
       "      <td>1</td>\n",
       "      <td>1</td>\n",
       "      <td>1</td>\n",
       "      <td>2</td>\n",
       "    </tr>\n",
       "  </tbody>\n",
       "</table>\n",
       "</div>"
      ],
      "text/plain": [
       "   Age  Gender  Income  Education  Marital_Status  Number_of_Children  \\\n",
       "0    1       0       1          2               0                   1   \n",
       "1    1       1       0          3               1                   0   \n",
       "3    0       1       0          0               0                   1   \n",
       "4    0       0       0          2               1                   0   \n",
       "5    0       1       0          3               1                   1   \n",
       "\n",
       "   Home_Ownership  Credit_Score  \n",
       "0               0             2  \n",
       "1               1             2  \n",
       "3               1             2  \n",
       "4               1             2  \n",
       "5               1             2  "
      ]
     },
     "execution_count": 21,
     "metadata": {},
     "output_type": "execute_result"
    }
   ],
   "source": [
    "clean_data.head()"
   ]
  },
  {
   "cell_type": "code",
   "execution_count": 22,
   "id": "7074d2a8",
   "metadata": {},
   "outputs": [],
   "source": [
    "#pip install scikit-learn"
   ]
  },
  {
   "cell_type": "code",
   "execution_count": 23,
   "id": "56403660",
   "metadata": {},
   "outputs": [],
   "source": [
    "from sklearn.cluster import KMeans \n",
    "import matplotlib.pyplot as plt"
   ]
  },
  {
   "cell_type": "code",
   "execution_count": 24,
   "id": "41dd0667",
   "metadata": {},
   "outputs": [],
   "source": [
    "kmeans = KMeans(n_clusters = 5 , random_state=42)\n",
    "kmeans.fit(clean_data)\n",
    "clusters = kmeans.labels_"
   ]
  },
  {
   "cell_type": "code",
   "execution_count": 25,
   "id": "1d80794d",
   "metadata": {},
   "outputs": [],
   "source": [
    "KMeans_Model_Data = clean_data"
   ]
  },
  {
   "cell_type": "markdown",
   "id": "d3db4dbe",
   "metadata": {},
   "source": [
    "## Elbow Method"
   ]
  },
  {
   "cell_type": "code",
   "execution_count": 26,
   "id": "8354996c",
   "metadata": {},
   "outputs": [
    {
     "data": {
      "image/png": "[encoded data removed]",
      "text/plain": [
       "<Figure size 640x480 with 1 Axes>"
      ]
     },
     "metadata": {},
     "output_type": "display_data"
    }
   ],
   "source": [
    "k_values= range(1,11)\n",
    "wcss = [KMeans(n_clusters = k , random_state = 42).fit(KMeans_Model_Data).inertia_ for k in k_values]\n",
    "plt.plot(k_values , wcss , 'bo-' , color = 'green' , marker = 'o')\n",
    "plt.xlabel('Number of Clusters (K)')\n",
    "plt.ylabel('Within-Cluster Sum of Squares (WCSS)')\n",
    "plt.title('The Elbow Method Curve')\n",
    "plt.show()"
   ]
  },
  {
   "cell_type": "markdown",
   "id": "aebbdfbb",
   "metadata": {},
   "source": [
    "## Analyzing Cluster Centroids"
   ]
  },
  {
   "cell_type": "code",
   "execution_count": 27,
   "id": "a1e36e9a",
   "metadata": {},
   "outputs": [
    {
     "data": {
      "text/plain": [
       "<Figure size 1000x600 with 0 Axes>"
      ]
     },
     "metadata": {},
     "output_type": "display_data"
    },
    {
     "data": {
      "image/png": "[encoded data removed]",
      "text/plain": [
       "<Figure size 640x480 with 1 Axes>"
      ]
     },
     "metadata": {},
     "output_type": "display_data"
    }
   ],
   "source": [
    "k = 4\n",
    "kmeans = KMeans(n_clusters=k , random_state = 42 )\n",
    "kmeans.fit(KMeans_Model_Data)\n",
    "\n",
    "cluster_centroids = kmeans.cluster_centers_\n",
    "        \n",
    "centroid_data = pd.DataFrame(cluster_centroids , columns = KMeans_Model_Data.columns)\n",
    "\n",
    "plt.figure(figsize=(10,6))\n",
    "centroid_data.plot(kind='bar')\n",
    "plt.xlabel('Feature Value')\n",
    "plt.ylabel('Cluster Centroids')\n",
    "plt.xticks(rotation=0)\n",
    "plt.legend(loc='best')\n",
    "plt.show()"
   ]
  },
  {
   "cell_type": "markdown",
   "id": "e0a0b6d4",
   "metadata": {},
   "source": [
    "## Visualizing Clusters"
   ]
  },
  {
   "cell_type": "markdown",
   "id": "3eb9d37f",
   "metadata": {},
   "source": [
    "### *Importing Visualizing Libraries*"
   ]
  },
  {
   "cell_type": "code",
   "execution_count": 28,
   "id": "29f65b8b",
   "metadata": {},
   "outputs": [],
   "source": [
    "# import matplotlib.pyplot as plt\n",
    "import seaborn as sns\n"
   ]
  },
  {
   "cell_type": "code",
   "execution_count": 29,
   "id": "2e688786",
   "metadata": {},
   "outputs": [],
   "source": [
    "KMeans_Model_Data['Cluster'] = clusters\n"
   ]
  },
  {
   "cell_type": "code",
   "execution_count": 30,
   "id": "df4d22f5",
   "metadata": {},
   "outputs": [
    {
     "data": {
      "image/png": "[encoded data removed]",
      "text/plain": [
       "<Figure size 600x400 with 2 Axes>"
      ]
     },
     "metadata": {},
     "output_type": "display_data"
    }
   ],
   "source": [
    "KMeans_Model_Data_Clusters = KMeans_Model_Data.copy()\n",
    "attributes = ['Age','Gender', 'Income','Education','Marital_Status','Number_of_Children','Home_Ownership','Credit_Score']\n",
    "KMeans_Model_Data_Clusters['Cluster'] = clusters\n",
    "cluster_avg = KMeans_Model_Data_Clusters.groupby('Cluster').mean()\n",
    "plt.figure(figsize = (6 , 4))\n",
    "\n",
    "sns.heatmap(cluster_avg.T, cmap='viridis', annot=True , fmt = '.2f' )\n",
    "plt.title('Cluster With Average Values')\n",
    "plt.xlabel('Cluster')\n",
    "plt.yticks(rotation=0)\n",
    "plt.show()"
   ]
  },
  {
   "cell_type": "markdown",
   "id": "3546b19c",
   "metadata": {},
   "source": [
    "## Customer Segmentation"
   ]
  },
  {
   "cell_type": "code",
   "execution_count": 31,
   "id": "a68382e1",
   "metadata": {},
   "outputs": [
    {
     "data": {
      "text/html": [
       "<div>\n",
       "<style scoped>\n",
       "    .dataframe tbody tr th:only-of-type {\n",
       "        vertical-align: middle;\n",
       "    }\n",
       "\n",
       "    .dataframe tbody tr th {\n",
       "        vertical-align: top;\n",
       "    }\n",
       "\n",
       "    .dataframe thead th {\n",
       "        text-align: right;\n",
       "    }\n",
       "</style>\n",
       "<table border=\"1\" class=\"dataframe\">\n",
       "  <thead>\n",
       "    <tr style=\"text-align: right;\">\n",
       "      <th></th>\n",
       "      <th>Age</th>\n",
       "      <th>Gender</th>\n",
       "      <th>Income</th>\n",
       "      <th>Education</th>\n",
       "      <th>Marital_Status</th>\n",
       "      <th>Number_of_Children</th>\n",
       "      <th>Home_Ownership</th>\n",
       "      <th>Credit_Score</th>\n",
       "      <th>Cluster</th>\n",
       "    </tr>\n",
       "  </thead>\n",
       "  <tbody>\n",
       "    <tr>\n",
       "      <th>0</th>\n",
       "      <td>1</td>\n",
       "      <td>0</td>\n",
       "      <td>1</td>\n",
       "      <td>2</td>\n",
       "      <td>0</td>\n",
       "      <td>1</td>\n",
       "      <td>0</td>\n",
       "      <td>2</td>\n",
       "      <td>0</td>\n",
       "    </tr>\n",
       "    <tr>\n",
       "      <th>1</th>\n",
       "      <td>1</td>\n",
       "      <td>1</td>\n",
       "      <td>0</td>\n",
       "      <td>3</td>\n",
       "      <td>1</td>\n",
       "      <td>0</td>\n",
       "      <td>1</td>\n",
       "      <td>2</td>\n",
       "      <td>1</td>\n",
       "    </tr>\n",
       "    <tr>\n",
       "      <th>3</th>\n",
       "      <td>0</td>\n",
       "      <td>1</td>\n",
       "      <td>0</td>\n",
       "      <td>0</td>\n",
       "      <td>0</td>\n",
       "      <td>1</td>\n",
       "      <td>1</td>\n",
       "      <td>2</td>\n",
       "      <td>2</td>\n",
       "    </tr>\n",
       "    <tr>\n",
       "      <th>4</th>\n",
       "      <td>0</td>\n",
       "      <td>0</td>\n",
       "      <td>0</td>\n",
       "      <td>2</td>\n",
       "      <td>1</td>\n",
       "      <td>0</td>\n",
       "      <td>1</td>\n",
       "      <td>2</td>\n",
       "      <td>1</td>\n",
       "    </tr>\n",
       "    <tr>\n",
       "      <th>5</th>\n",
       "      <td>0</td>\n",
       "      <td>1</td>\n",
       "      <td>0</td>\n",
       "      <td>3</td>\n",
       "      <td>1</td>\n",
       "      <td>1</td>\n",
       "      <td>1</td>\n",
       "      <td>2</td>\n",
       "      <td>3</td>\n",
       "    </tr>\n",
       "  </tbody>\n",
       "</table>\n",
       "</div>"
      ],
      "text/plain": [
       "   Age  Gender  Income  Education  Marital_Status  Number_of_Children  \\\n",
       "0    1       0       1          2               0                   1   \n",
       "1    1       1       0          3               1                   0   \n",
       "3    0       1       0          0               0                   1   \n",
       "4    0       0       0          2               1                   0   \n",
       "5    0       1       0          3               1                   1   \n",
       "\n",
       "   Home_Ownership  Credit_Score  Cluster  \n",
       "0               0             2        0  \n",
       "1               1             2        1  \n",
       "3               1             2        2  \n",
       "4               1             2        1  \n",
       "5               1             2        3  "
      ]
     },
     "execution_count": 31,
     "metadata": {},
     "output_type": "execute_result"
    }
   ],
   "source": [
    "kmeans.fit(KMeans_Model_Data_Clusters[attributes])\n",
    "cluster_labels = kmeans.labels_\n",
    "KMeans_Model_Data_Clusters['Cluster'] = cluster_labels\n",
    "KMeans_Model_Data_Clusters.head()\n"
   ]
  },
  {
   "cell_type": "markdown",
   "id": "16fe97b1",
   "metadata": {},
   "source": [
    "## Customer Profiling"
   ]
  },
  {
   "cell_type": "code",
   "execution_count": 32,
   "id": "ea378911",
   "metadata": {},
   "outputs": [
    {
     "data": {
      "text/html": [
       "<div>\n",
       "<style scoped>\n",
       "    .dataframe tbody tr th:only-of-type {\n",
       "        vertical-align: middle;\n",
       "    }\n",
       "\n",
       "    .dataframe tbody tr th {\n",
       "        vertical-align: top;\n",
       "    }\n",
       "\n",
       "    .dataframe thead th {\n",
       "        text-align: right;\n",
       "    }\n",
       "</style>\n",
       "<table border=\"1\" class=\"dataframe\">\n",
       "  <thead>\n",
       "    <tr style=\"text-align: right;\">\n",
       "      <th></th>\n",
       "      <th>Age</th>\n",
       "      <th>Gender</th>\n",
       "      <th>Income</th>\n",
       "      <th>Education</th>\n",
       "      <th>Marital_Status</th>\n",
       "      <th>Number_of_Children</th>\n",
       "      <th>Home_Ownership</th>\n",
       "      <th>Credit_Score</th>\n",
       "    </tr>\n",
       "    <tr>\n",
       "      <th>Cluster</th>\n",
       "      <th></th>\n",
       "      <th></th>\n",
       "      <th></th>\n",
       "      <th></th>\n",
       "      <th></th>\n",
       "      <th></th>\n",
       "      <th></th>\n",
       "      <th></th>\n",
       "    </tr>\n",
       "  </thead>\n",
       "  <tbody>\n",
       "    <tr>\n",
       "      <th>0</th>\n",
       "      <td>1.000000</td>\n",
       "      <td>0.60000</td>\n",
       "      <td>1.000000</td>\n",
       "      <td>1.285714</td>\n",
       "      <td>0.000000</td>\n",
       "      <td>1.00</td>\n",
       "      <td>0.000000</td>\n",
       "      <td>1.028571</td>\n",
       "    </tr>\n",
       "    <tr>\n",
       "      <th>1</th>\n",
       "      <td>0.594595</td>\n",
       "      <td>0.27027</td>\n",
       "      <td>0.486486</td>\n",
       "      <td>2.405405</td>\n",
       "      <td>1.000000</td>\n",
       "      <td>0.00</td>\n",
       "      <td>0.972973</td>\n",
       "      <td>1.972973</td>\n",
       "    </tr>\n",
       "    <tr>\n",
       "      <th>2</th>\n",
       "      <td>0.000000</td>\n",
       "      <td>0.75000</td>\n",
       "      <td>0.000000</td>\n",
       "      <td>0.250000</td>\n",
       "      <td>0.750000</td>\n",
       "      <td>0.75</td>\n",
       "      <td>1.000000</td>\n",
       "      <td>2.000000</td>\n",
       "    </tr>\n",
       "    <tr>\n",
       "      <th>3</th>\n",
       "      <td>0.038462</td>\n",
       "      <td>1.00000</td>\n",
       "      <td>0.076923</td>\n",
       "      <td>2.807692</td>\n",
       "      <td>0.384615</td>\n",
       "      <td>1.00</td>\n",
       "      <td>0.961538</td>\n",
       "      <td>2.000000</td>\n",
       "    </tr>\n",
       "  </tbody>\n",
       "</table>\n",
       "</div>"
      ],
      "text/plain": [
       "              Age   Gender    Income  Education  Marital_Status  \\\n",
       "Cluster                                                           \n",
       "0        1.000000  0.60000  1.000000   1.285714        0.000000   \n",
       "1        0.594595  0.27027  0.486486   2.405405        1.000000   \n",
       "2        0.000000  0.75000  0.000000   0.250000        0.750000   \n",
       "3        0.038462  1.00000  0.076923   2.807692        0.384615   \n",
       "\n",
       "         Number_of_Children  Home_Ownership  Credit_Score  \n",
       "Cluster                                                    \n",
       "0                      1.00        0.000000      1.028571  \n",
       "1                      0.00        0.972973      1.972973  \n",
       "2                      0.75        1.000000      2.000000  \n",
       "3                      1.00        0.961538      2.000000  "
      ]
     },
     "execution_count": 32,
     "metadata": {},
     "output_type": "execute_result"
    }
   ],
   "source": [
    "cluster_profiles = KMeans_Model_Data_Clusters.groupby('Cluster')[attributes].mean()\n",
    "cluster_profiles"
   ]
  },
  {
   "cell_type": "markdown",
   "id": "347eb39d",
   "metadata": {},
   "source": [
    "## Training & Testing"
   ]
  },
  {
   "cell_type": "code",
   "execution_count": 33,
   "id": "e59f97dd",
   "metadata": {},
   "outputs": [],
   "source": [
    "from sklearn.model_selection import train_test_split\n",
    "Credit_Data = KMeans_Model_Data_Clusters\n",
    "x = Credit_Data[attributes]\n",
    "y = Credit_Data['Cluster']\n",
    "\n",
    "x_train , x_test , y_train , y_test = train_test_split(x , y , test_size=20 , random_state=42)"
   ]
  },
  {
   "cell_type": "code",
   "execution_count": 34,
   "id": "1a43f19f",
   "metadata": {},
   "outputs": [],
   "source": [
    "from sklearn.ensemble import RandomForestClassifier\n",
    "from sklearn.metrics import accuracy_score"
   ]
  },
  {
   "cell_type": "code",
   "execution_count": 35,
   "id": "c37a677f",
   "metadata": {},
   "outputs": [
    {
     "name": "stdout",
     "output_type": "stream",
     "text": [
      "Training Accuracy: 100%\n",
      "Testing Accuracy :96%\n"
     ]
    }
   ],
   "source": [
    "Random_Forest_Model = RandomForestClassifier(random_state = 42)\n",
    "\n",
    "\n",
    "Random_Forest_Model.fit(x_train , y_train)\n",
    "training_accuracy = Random_Forest_Model.score(x_train,y_train)\n",
    "conversion_percentage = int(training_accuracy * 100)\n",
    "print(f\"Training Accuracy: {conversion_percentage}%\")\n",
    "\n",
    "\n",
    "y_pred = Random_Forest_Model.predict(x_test)\n",
    "accuracy =  accuracy_score(y_test , y_pred)\n",
    "conversion_percentage_form = int(accuracy * 100)\n",
    "print(f\"Testing Accuracy :{conversion_percentage_form:}%\")"
   ]
  },
  {
   "cell_type": "code",
   "execution_count": 36,
   "id": "36c07cb0",
   "metadata": {},
   "outputs": [],
   "source": [
    "from sklearn.metrics import confusion_matrix"
   ]
  },
  {
   "cell_type": "code",
   "execution_count": 37,
   "id": "8ca3917b",
   "metadata": {},
   "outputs": [
    {
     "name": "stdout",
     "output_type": "stream",
     "text": [
      "Confusion Matrix:\n",
      "[[13  0  0  0]\n",
      " [ 0  9  0  0]\n",
      " [ 0  0  1  0]\n",
      " [ 1  0  0  6]]\n"
     ]
    },
    {
     "data": {
      "image/png": "[encoded data removed]",
      "text/plain": [
       "<Figure size 500x300 with 2 Axes>"
      ]
     },
     "metadata": {},
     "output_type": "display_data"
    }
   ],
   "source": [
    "cm = confusion_matrix(y_test , y_pred)\n",
    "print('Confusion Matrix:')\n",
    "print(cm)\n",
    "\n",
    "plt.figure(figsize=(5 , 3))      \n",
    "sns.heatmap(data = cm , annot=True , cmap='Greens') \n",
    "plt.xlabel('Predicted Labels')\n",
    "plt.ylabel('Exact Labels')\n",
    "plt.show()"
   ]
  },
  {
   "cell_type": "code",
   "execution_count": 46,
   "id": "d7747c0b",
   "metadata": {},
   "outputs": [],
   "source": [
    "Credit_Model = Random_Forest_Model"
   ]
  },
  {
   "cell_type": "markdown",
   "id": "5b2d6cf1",
   "metadata": {},
   "source": [
    "## *Lebogang Francis Sindani*"
   ]
  },
  {
   "cell_type": "code",
   "execution_count": null,
   "id": "e9cc481a",
   "metadata": {},
   "outputs": [],
   "source": []
  }
 ],
 "metadata": {
  "kernelspec": {
   "display_name": "Python 3 (ipykernel)",
   "language": "python",
   "name": "python3"
  },
  "language_info": {
   "codemirror_mode": {
    "name": "ipython",
    "version": 3
   },
   "file_extension": ".py",
   "mimetype": "text/x-python",
   "name": "python",
   "nbconvert_exporter": "python",
   "pygments_lexer": "ipython3",
   "version": "3.10.9"
  }
 },
 "nbformat": 4,
 "nbformat_minor": 5
}
